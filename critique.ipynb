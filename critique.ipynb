{
 "cells": [
  {
   "cell_type": "markdown",
   "metadata": {
    "collapsed": false
   },
   "source": [
    "## Critique of Raha's sequences.py\n",
    "\n",
    "Code looks very neat and organized although variables are not specifically labeled. Code is documented which brings context to the purpose of the code. Code is easy to follow if I read through it line by line to figure out what is happening. The code works and passed Travis. Code looks very similar to mine so I do not have any recommendations towards improving it other than naming the variables.\n",
    "\n",
    "#### Rating\n",
    "     95/100"
   ]
  },
  {
   "cell_type": "code",
   "execution_count": 0,
   "metadata": {
    "collapsed": false
   },
   "outputs": [
   ],
   "source": [
   ]
  }
 ],
 "metadata": {
  "kernelspec": {
   "display_name": "Python 3 (Anaconda 5)",
   "language": "python",
   "name": "anaconda5"
  }
 },
 "nbformat": 4,
 "nbformat_minor": 0
}