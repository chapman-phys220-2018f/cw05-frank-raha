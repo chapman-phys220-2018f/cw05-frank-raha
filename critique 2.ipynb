{
 "cells": [
  {
   "cell_type": "markdown",
   "metadata": {
    "collapsed": false
   },
   "source": [
    "### Frank's cw 3 ###\n",
    "The code is very organized, the varibles are clearly labeled. There are no comments. The code works and passes Travis. I can easily follow the code line by line. The code looks very similar to mine, so there isn't any additional recomendations I can give. \n",
    "### Rating ###\n",
    "95/100 ---> 95%"
   ]
  },
  {
   "cell_type": "code",
   "execution_count": 0,
   "metadata": {
    "collapsed": false
   },
   "outputs": [
   ],
   "source": [
   ]
  },
  {
   "cell_type": "code",
   "execution_count": 0,
   "metadata": {
    "collapsed": false
   },
   "outputs": [
   ],
   "source": [
   ]
  }
 ],
 "metadata": {
  "kernelspec": {
   "display_name": "Python 3 (Anaconda 5)",
   "language": "python",
   "name": "anaconda5"
  }
 },
 "nbformat": 4,
 "nbformat_minor": 0
}